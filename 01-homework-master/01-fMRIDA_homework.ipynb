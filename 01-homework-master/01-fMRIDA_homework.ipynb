{
 "cells": [
  {
   "cell_type": "markdown",
   "metadata": {},
   "source": [
    "# Fundamentals of fMRI data analysis \n",
    "## Homework for courses: \n",
    "- #0 Introduction\n",
    "- #1 Reproducible neuroimaging"
   ]
  },
  {
   "cell_type": "markdown",
   "metadata": {},
   "source": [
    "In this assignment, your task is to answer a few questions related to neuroimaging using Markdown ([cheet sheet](https://guides.github.com/features/mastering-markdown/)).  \n",
    "\n",
    "You can choose to answer in Polish or English (it will not affect your grade).\n",
    "\n",
    "Write answers in your **own words**, as you would like to explain it to a friend (do not copy from Wikipedia!). \n",
    "\n",
    "Use Markdown formatting options as much as possible!\n",
    "\n",
    "\n",
    "**DEADLINE:** 18-10-2020\n",
    "\n",
    "\n",
    "--------------------\n"
   ]
  },
  {
   "cell_type": "markdown",
   "metadata": {},
   "source": [
    "**1. Explain in your *own words* how fMRI works (2-3 sentences).**"
   ]
  },
  {
   "cell_type": "markdown",
   "metadata": {},
   "source": [
    "fMRI is a method of brain imaging which consists of registering in which areas of the brain is most active at a given moment (e.g. while performing some activity). **It works in such a way that the oxygen in our blood is subjected to an external magnetic field (i.e. an MRI). In this way, the oxygen atoms are magnetised and become the source of the magnetic field themselves, thus emitting energy, which is recorded and then converted into an image. Stronger oxygenated blood flows through areas that are currently more active than others,** so that we can classify these particular brain fragments as activated."
   ]
  },
  {
   "cell_type": "markdown",
   "metadata": {},
   "source": [
    "**2. Explain in your *own words* the term *BOLD signal* (2-3 sentences).**"
   ]
  },
  {
   "cell_type": "markdown",
   "metadata": {},
   "source": [
    "BOLD signal is a technique used for brain imaging, which uses the fact that during activation of the brain cortex a strong deoxygenation of haemoglobin occurs, and then an increase in blood flow causes the venous blood to be less deoxygenated (i.e. richer in oxyhemoglobin), which affects the signal strength (it is then stronger). (+ bold answer to question 1)."
   ]
  },
  {
   "cell_type": "markdown",
   "metadata": {},
   "source": [
    "**3. Make a table (two columns) with advantages and disadvantages of fMRI.**"
   ]
  },
  {
   "cell_type": "markdown",
   "metadata": {},
   "source": [
    "| Advantages | Disadvantages |\n",
    "| ------------- |:-------------------:|\n",
    "| non-invasiveness    | worse time resolution parameters than EE |\n",
    "| a very low level of inconvenience for the patient | high research costs |\n",
    "| the spatial resolution is 3 mm, which makes the results relatively accurate | a large number of contraindications (metal fragments in the body, claustrophobia, etc.) |"
   ]
  },
  {
   "cell_type": "markdown",
   "metadata": {},
   "source": [
    "**4. Explain in your *own words* the term *reproducible research*.**\n",
    "Highly recomended video: [From interactive exploration to reproducible data science](https://www.youtube.com/watch?v=xOKPKiAhey4).\n"
   ]
  },
  {
   "cell_type": "markdown",
   "metadata": {},
   "source": [
    "This is a repetition of a study that someone has already carried out. It is intended to check the correctness of the results, to reconstruct the methods, sometimes it is a kind of prelude to one's own research."
   ]
  },
  {
   "cell_type": "markdown",
   "metadata": {},
   "source": [
    "**5. Make a *list* with good neuroimaging research practices that improve reproducibility of results.**"
   ]
  },
  {
   "cell_type": "markdown",
   "metadata": {},
   "source": [
    "* Writing the original code. \n",
    "* Sharing your code and being ready for any changes proposed by another researcher.\n",
    "* Using and promoting the idea of open science.\n",
    "* Avoiding false positive, HARKing and P-hacking.\n",
    "* Publishing research results that have not proved our hypothesis, so that other researchers know that it has already been tested and has not given the desired results"
   ]
  },
  {
   "cell_type": "code",
   "execution_count": null,
   "metadata": {},
   "outputs": [],
   "source": []
  }
 ],
 "metadata": {
  "kernelspec": {
   "display_name": "Python 3",
   "language": "python",
   "name": "python3"
  },
  "language_info": {
   "codemirror_mode": {
    "name": "ipython",
    "version": 3
   },
   "file_extension": ".py",
   "mimetype": "text/x-python",
   "name": "python",
   "nbconvert_exporter": "python",
   "pygments_lexer": "ipython3",
   "version": "3.8.3"
  },
  "widgets": {
   "application/vnd.jupyter.widget-state+json": {
    "state": {},
    "version_major": 2,
    "version_minor": 0
   }
  }
 },
 "nbformat": 4,
 "nbformat_minor": 4
}
